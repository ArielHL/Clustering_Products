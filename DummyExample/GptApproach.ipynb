{
 "cells": [
  {
   "cell_type": "code",
   "execution_count": 2,
   "metadata": {},
   "outputs": [],
   "source": [
    "import pandas as pd"
   ]
  },
  {
   "cell_type": "code",
   "execution_count": 3,
   "metadata": {},
   "outputs": [],
   "source": [
    "products_brand_a = [\n",
    "    {\"Product\": \"Frozen Peas\", \"Ingredients\": [\"Peas\"], \"Category\": \"Frozen\", \"Brand\": \"A\"},\n",
    "    {\"Product\": \"Chicken Nuggets\", \"Ingredients\": [\"Chicken breast\", \"Breadcrumbs\", \"Oil\", \"Salt\", \"Spices\"], \"Category\": \"Frozen\", \"Brand\": \"A\"},\n",
    "    {\"Product\": \"Mixed Vegetables\", \"Ingredients\": [\"Carrots\", \"Peas\", \"Corn\", \"Green beans\"], \"Category\": \"Frozen\", \"Brand\": \"A\"},\n",
    "    {\"Product\": \"Strawberry Ice Cream\", \"Ingredients\": [\"Milk\", \"Sugar\", \"Strawberries\", \"Cream\"], \"Category\": \"Frozen\", \"Brand\": \"A\"},\n",
    "    {\"Product\": \"Cheese Pizza\", \"Ingredients\": [\"Flour\", \"Cheese\", \"Tomato sauce\", \"Olive oil\", \"Yeast\"], \"Category\": \"Frozen\", \"Brand\": \"A\"},\n",
    "    {\"Product\": \"Beef Burgers\", \"Ingredients\": [\"Beef\", \"Salt\", \"Pepper\"], \"Category\": \"Frozen\", \"Brand\": \"A\"},\n",
    "    {\"Product\": \"Broccoli Florets\", \"Ingredients\": [\"Broccoli\"], \"Category\": \"Frozen\", \"Brand\": \"A\"},\n",
    "    {\"Product\": \"Blueberry Waffles\", \"Ingredients\": [\"Flour\", \"Eggs\", \"Sugar\", \"Blueberries\", \"Milk\"], \"Category\": \"Frozen\", \"Brand\": \"A\"},\n",
    "    {\"Product\": \"French Fries\", \"Ingredients\": [\"Potatoes\", \"Oil\", \"Salt\"], \"Category\": \"Frozen\", \"Brand\": \"A\"},\n",
    "    {\"Product\": \"Spinach and Cheese Ravioli\", \"Ingredients\": [\"Flour\", \"Spinach\", \"Cheese\", \"Eggs\", \"Salt\"], \"Category\": \"Frozen\", \"Brand\": \"A\"},\n",
    "    {\"Product\": \"Garlic Bread\", \"Ingredients\": [\"Bread\", \"Butter\", \"Garlic\", \"Parsley\"], \"Category\": \"Frozen\", \"Brand\": \"A\"},\n",
    "    {\"Product\": \"Shrimp Tempura\", \"Ingredients\": [\"Shrimp\", \"Flour\", \"Breadcrumbs\", \"Eggs\", \"Oil\"], \"Category\": \"Frozen\", \"Brand\": \"A\"},\n",
    "    {\"Product\": \"Fish Sticks\", \"Ingredients\": [\"Fish\", \"Breadcrumbs\", \"Eggs\", \"Flour\", \"Oil\"], \"Category\": \"Frozen\", \"Brand\": \"A\"},\n",
    "    {\"Product\": \"Vegetable Samosas\", \"Ingredients\": [\"Flour\", \"Potatoes\", \"Peas\", \"Spices\"], \"Category\": \"Frozen\", \"Brand\": \"A\"},\n",
    "    {\"Product\": \"Mango Sorbet\", \"Ingredients\": [\"Mango\", \"Sugar\", \"Water\", \"Lemon juice\"], \"Category\": \"Frozen\", \"Brand\": \"A\"},\n",
    "    {\"Product\": \"Buffalo Wings\", \"Ingredients\": [\"Chicken\", \"Hot sauce\", \"Butter\", \"Garlic powder\"], \"Category\": \"Frozen\", \"Brand\": \"A\"},\n",
    "    {\"Product\": \"Chocolate Cake\", \"Ingredients\": [\"Flour\", \"Sugar\", \"Cocoa powder\", \"Eggs\", \"Butter\"], \"Category\": \"Frozen\", \"Brand\": \"A\"},\n",
    "    {\"Product\": \"Lamb Gyro\", \"Ingredients\": [\"Lamb\", \"Spices\", \"Onion\", \"Tomato\", \"Tzatziki sauce\"], \"Category\": \"Frozen\", \"Brand\": \"A\"},\n",
    "    {\"Product\": \"Pork Dumplings\", \"Ingredients\": [\"Pork\", \"Flour\", \"Cabbage\", \"Scallions\", \"Spices\"], \"Category\": \"Frozen\", \"Brand\": \"A\"},\n",
    "    {\"Product\": \"Vegetable Lasagna\", \"Ingredients\": [\"Pasta\", \"Tomatoes\", \"Zucchini\", \"Cheese\", \"Spices\"], \"Category\": \"Frozen\", \"Brand\": \"A\"},\n",
    "    {\"Product\": \"Berry Smoothie Mix\", \"Ingredients\": [\"Strawberries\", \"Blueberries\", \"Raspberries\", \"Yogurt\"], \"Category\": \"Frozen\", \"Brand\": \"A\"},\n",
    "    {\"Product\": \"Turkey Meatballs\", \"Ingredients\": [\"Turkey\", \"Breadcrumbs\", \"Eggs\", \"Spices\"], \"Category\": \"Frozen\", \"Brand\": \"A\"},\n",
    "    {\"Product\": \"Pepperoni Pizza\", \"Ingredients\": [\"Flour\", \"Cheese\", \"Pepperoni\", \"Tomato sauce\", \"Yeast\"], \"Category\": \"Frozen\", \"Brand\": \"A\"},\n",
    "    {\"Product\": \"Seafood Paella\", \"Ingredients\": [\"Rice\", \"Seafood mix\", \"Peas\", \"Spices\"], \"Category\": \"Frozen\", \"Brand\": \"A\"},\n",
    "    {\"Product\": \"Corn Dogs\", \"Ingredients\": [\"Hot dog\", \"Cornmeal\", \"Flour\", \"Sugar\", \"Salt\"], \"Category\": \"Frozen\", \"Brand\": \"A\"},\n",
    "    {\"Product\": \"Egg Rolls\", \"Ingredients\": [\"Cabbage\", \"Carrot\", \"Onion\", \"Flour\", \"Oil\"], \"Category\": \"Frozen\", \"Brand\": \"A\"},\n",
    "    {\"Product\": \"Spinach Pie\", \"Ingredients\": [\"Spinach\", \"Feta cheese\", \"Flour\", \"Butter\", \"Eggs\"], \"Category\": \"Frozen\", \"Brand\": \"A\"},\n",
    "    {\"Product\": \"Tiramisu\", \"Ingredients\": [\"Mascarpone\", \"Espresso\", \"Ladyfingers\", \"Cocoa powder\", \"Sugar\"], \"Category\": \"Frozen\", \"Brand\": \"A\"},\n",
    "    {\"Product\": \"Clam Chowder\", \"Ingredients\": [\"Clams\", \"Potatoes\", \"Onion\", \"Milk\", \"Cream\"], \"Category\": \"Frozen\", \"Brand\": \"A\"},\n",
    "    {\"Product\": \"Sausage Rolls\", \"Ingredients\": [\"Sausage\", \"Puff pastry\", \"Eggs\", \"Spices\"], \"Category\": \"Frozen\", \"Brand\": \"A\"}\n",
    "]\n"
   ]
  },
  {
   "cell_type": "code",
   "execution_count": 4,
   "metadata": {},
   "outputs": [],
   "source": [
    "products_brand_b = [\n",
    "    {\"Product\": \"Frozen Corn\", \"Ingredients\": [\"Corn\"], \"Category\": \"Frozen\", \"Brand\": \"B\"},\n",
    "    {\"Product\": \"Turkey Nuggets\", \"Ingredients\": [\"Turkey breast\", \"Cornflakes\", \"Oil\", \"Salt\", \"Paprika\"], \"Category\": \"Frozen\", \"Brand\": \"B\"},\n",
    "    {\"Product\": \"Stir Fry Vegetables\", \"Ingredients\": [\"Broccoli\", \"Carrots\", \"Red bell peppers\", \"Snap peas\"], \"Category\": \"Frozen\", \"Brand\": \"B\"},\n",
    "    {\"Product\": \"Raspberry Ice Cream\", \"Ingredients\": [\"Milk\", \"Sugar\", \"Raspberries\", \"Cream\"], \"Category\": \"Frozen\", \"Brand\": \"B\"},\n",
    "    {\"Product\": \"Spinach Pizza\", \"Ingredients\": [\"Flour\", \"Spinach\", \"Feta cheese\", \"Olive oil\", \"Yeast\"], \"Category\": \"Frozen\", \"Brand\": \"B\"},\n",
    "    {\"Product\": \"Pork Burgers\", \"Ingredients\": [\"Pork\", \"Salt\", \"Pepper\", \"Garlic powder\"], \"Category\": \"Frozen\", \"Brand\": \"B\"},\n",
    "    {\"Product\": \"Cauliflower Florets\", \"Ingredients\": [\"Cauliflower\"], \"Category\": \"Frozen\", \"Brand\": \"B\"},\n",
    "    {\"Product\": \"Chocolate Chip Waffles\", \"Ingredients\": [\"Flour\", \"Eggs\", \"Sugar\", \"Chocolate chips\", \"Milk\"], \"Category\": \"Frozen\", \"Brand\": \"B\"},\n",
    "    {\"Product\": \"Sweet Potato Fries\", \"Ingredients\": [\"Sweet potatoes\", \"Oil\", \"Salt\"], \"Category\": \"Frozen\", \"Brand\": \"B\"},\n",
    "    {\"Product\": \"Mushroom and Cheese Ravioli\", \"Ingredients\": [\"Flour\", \"Mushrooms\", \"Cheese\", \"Eggs\", \"Salt\"], \"Category\": \"Frozen\", \"Brand\": \"B\"},\n",
    "    {\"Product\": \"Cheesy Garlic Bread\", \"Ingredients\": [\"Bread\", \"Cheese\", \"Garlic\", \"Butter\"], \"Category\": \"Frozen\", \"Brand\": \"B\"},\n",
    "    {\"Product\": \"Coconut Shrimp\", \"Ingredients\": [\"Shrimp\", \"Coconut flakes\", \"Flour\", \"Eggs\", \"Oil\"], \"Category\": \"Frozen\", \"Brand\": \"B\"},\n",
    "    {\"Product\": \"Salmon Sticks\", \"Ingredients\": [\"Salmon\", \"Breadcrumbs\", \"Eggs\", \"Flour\", \"Oil\"], \"Category\": \"Frozen\", \"Brand\": \"B\"},\n",
    "    {\"Product\": \"Onion Bhaji\", \"Ingredients\": [\"Onion\", \"Chickpea flour\", \"Spices\"], \"Category\": \"Frozen\", \"Brand\": \"B\"},\n",
    "    {\"Product\": \"Lemon Sorbet\", \"Ingredients\": [\"Lemon\", \"Sugar\", \"Water\"], \"Category\": \"Frozen\", \"Brand\": \"B\"},\n",
    "    {\"Product\": \"Spicy Chicken Wings\", \"Ingredients\": [\"Chicken\", \"Chili sauce\", \"Vinegar\", \"Spices\"], \"Category\": \"Frozen\", \"Brand\": \"B\"},\n",
    "    {\"Product\": \"Red Velvet Cake\", \"Ingredients\": [\"Flour\", \"Sugar\", \"Butter\", \"Cocoa powder\", \"Cream cheese\"], \"Category\": \"Frozen\", \"Brand\": \"B\"},\n",
    "    {\"Product\": \"Chicken Gyro\", \"Ingredients\": [\"Chicken\", \"Garlic\", \"Yogurt\", \"Cucumber\", \"Tomato\"], \"Category\": \"Frozen\", \"Brand\": \"B\"},\n",
    "    {\"Product\": \"Chicken Dumplings\", \"Ingredients\": [\"Chicken\", \"Flour\", \"Garlic\", \"Ginger\", \"Soy sauce\"], \"Category\": \"Frozen\", \"Brand\": \"B\"},\n",
    "    {\"Product\": \"Squash Lasagna\", \"Ingredients\": [\"Pasta\", \"Butternut squash\", \"Ricotta cheese\", \"Sage\", \"Nutmeg\"], \"Category\": \"Frozen\", \"Brand\": \"B\"},\n",
    "    {\"Product\": \"Tropical Smoothie Mix\", \"Ingredients\": [\"Pineapple\", \"Mango\", \"Papaya\", \"Coconut water\"], \"Category\": \"Frozen\", \"Brand\": \"B\"},\n",
    "    {\"Product\": \"Chicken Meatballs\", \"Ingredients\": [\"Chicken\", \"Parmesan\", \"Breadcrumbs\", \"Eggs\", \"Herbs\"], \"Category\": \"Frozen\", \"Brand\": \"B\"},\n",
    "    {\"Product\": \"Ham Pizza\", \"Ingredients\": [\"Flour\", \"Cheese\", \"Ham\", \"Tomato sauce\", \"Yeast\"], \"Category\": \"Frozen\", \"Brand\": \"B\"},\n",
    "    {\"Product\": \"Vegetable Paella\", \"Ingredients\": [\"Rice\", \"Bell peppers\", \"Artichokes\", \"Peas\", \"Saffron\"], \"Category\": \"Frozen\", \"Brand\": \"B\"},\n",
    "    {\"Product\": \"Chicken Corn Dogs\", \"Ingredients\": [\"Chicken hot dog\", \"Cornmeal\", \"Flour\", \"Honey\", \"Salt\"], \"Category\": \"Frozen\", \"Brand\": \"B\"},\n",
    "    {\"Product\": \"Vegetable Spring Rolls\", \"Ingredients\": [\"Cabbage\", \"Carrot\", \"Mushroom\", \"Flour\", \"Oil\"], \"Category\": \"Frozen\", \"Brand\": \"B\"},\n",
    "    {\"Product\": \"Cheese and Spinach Pie\", \"Ingredients\": [\"Spinach\", \"Cheese\", \"Flour\", \"Butter\", \"Eggs\"], \"Category\": \"Frozen\", \"Brand\": \"B\"},\n",
    "    {\"Product\": \"Coffee Tiramisu\", \"Ingredients\": [\"Mascarpone\", \"Coffee\", \"Ladyfingers\", \"Cocoa powder\", \"Sugar\"], \"Category\": \"Frozen\", \"Brand\": \"B\"},\n",
    "    {\"Product\": \"Seafood Bisque\", \"Ingredients\": [\"Seafood mix\", \"Tomatoes\", \"Cream\", \"Sherry\", \"Spices\"], \"Category\": \"Frozen\", \"Brand\": \"B\"},\n",
    "    {\"Product\": \"Beef and Cheese Rolls\", \"Ingredients\": [\"Beef\", \"Cheese\", \"Puff pastry\", \"Eggs\", \"Spices\"], \"Category\": \"Frozen\", \"Brand\": \"B\"}\n",
    "]\n"
   ]
  },
  {
   "cell_type": "code",
   "execution_count": 5,
   "metadata": {},
   "outputs": [],
   "source": [
    "def rank_ingredients(products):\n",
    "    for product in products:\n",
    "        # Enumerate the ingredients and append a rank to each ingredient\n",
    "        product['Ingredients'] = [f\"{ingredient}:{index+1}\" for index, ingredient in enumerate(product['Ingredients'])]\n",
    "    return products\n",
    "\n",
    "products_brand_a = rank_ingredients(products_brand_a)\n",
    "products_brand_b = rank_ingredients(products_brand_b)"
   ]
  },
  {
   "cell_type": "code",
   "execution_count": 7,
   "metadata": {},
   "outputs": [],
   "source": [
    "products:list = products_brand_a + products_brand_b"
   ]
  },
  {
   "cell_type": "code",
   "execution_count": 8,
   "metadata": {},
   "outputs": [],
   "source": [
    "# Adjust products to include ingredient weights based on rank\n",
    "for product in products:\n",
    "    ingredients_with_weights = []\n",
    "    for ingredient in product['Ingredients']:\n",
    "        name, rank = ingredient.split(':')\n",
    "        # Calculate the weight as the inverse of the rank\n",
    "        weight = 1 / int(rank)\n",
    "        # Append the ingredient name multiplied by its calculated weight\n",
    "        ingredients_with_weights.append(f\"{name.strip()}:{weight:.2f}\")\n",
    "    product['Ingredients'] = \", \".join(ingredients_with_weights)  # Joining ingredients and their weights for vectorization\n"
   ]
  },
  {
   "cell_type": "code",
   "execution_count": 16,
   "metadata": {},
   "outputs": [],
   "source": [
    "from sklearn.feature_extraction import DictVectorizer\n",
    "\n",
    "# Create a list of dictionaries where each dictionary represents the weighted ingredients of a product\n",
    "ingredient_dicts = []\n",
    "for product in products:\n",
    "    ingredient_dict = {}\n",
    "    for item in product['Ingredients'].split(', '):\n",
    "        name, weight = item.split(':')\n",
    "        ingredient_dict[name] = float(weight)\n",
    "    ingredient_dicts.append(ingredient_dict)\n",
    "\n",
    "# Vectorize the ingredient dictionaries. \n",
    "# Generate a sparse matrix where each row represents a product and each column represents an ingredient and the values are the weights of the ingredients\n",
    "vectorizer = DictVectorizer()\n",
    "ingredient_vectors = vectorizer.fit_transform(ingredient_dicts)\n"
   ]
  },
  {
   "cell_type": "code",
   "execution_count": null,
   "metadata": {},
   "outputs": [],
   "source": []
  }
 ],
 "metadata": {
  "kernelspec": {
   "display_name": "PY311",
   "language": "python",
   "name": "python3"
  },
  "language_info": {
   "codemirror_mode": {
    "name": "ipython",
    "version": 3
   },
   "file_extension": ".py",
   "mimetype": "text/x-python",
   "name": "python",
   "nbconvert_exporter": "python",
   "pygments_lexer": "ipython3",
   "version": "3.11.6"
  }
 },
 "nbformat": 4,
 "nbformat_minor": 2
}
